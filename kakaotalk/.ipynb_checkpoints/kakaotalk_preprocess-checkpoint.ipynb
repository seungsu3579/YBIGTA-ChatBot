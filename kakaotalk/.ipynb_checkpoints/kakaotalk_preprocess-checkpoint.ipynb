{
 "cells": [
  {
   "cell_type": "code",
   "execution_count": 17,
   "metadata": {},
   "outputs": [],
   "source": [
    "file_name = \"./kakao.txt\" \n",
    "txt = open(file_name, 'r', encoding=\"UTF-8\")\n",
    "lines = txt.readlines()"
   ]
  },
  {
   "cell_type": "code",
   "execution_count": 18,
   "metadata": {},
   "outputs": [],
   "source": [
    "# 없앨 단어 추가!\n",
    "remove_word = [\"이모티콘\", \"줍줍\", \"https://\", \"님이 뿌린\", \"공유했습니다.\", \"사진\", \"동영상\"]"
   ]
  },
  {
   "cell_type": "code",
   "execution_count": 19,
   "metadata": {},
   "outputs": [],
   "source": [
    "def check_contain(remove_word, comment):\n",
    "    for word in remove_word:\n",
    "        if comment.find(word) != -1:\n",
    "            return False\n",
    "    return True"
   ]
  },
  {
   "cell_type": "code",
   "execution_count": 20,
   "metadata": {},
   "outputs": [],
   "source": [
    "data = []\n",
    "for l in lines:\n",
    "    if l[0] == \"[\":\n",
    "        \n",
    "        name = l[:l.find(\" \")]\n",
    "        l = l[l.find(\" \") + 1:]\n",
    "        l = l[l.find(\" \") + 1:]\n",
    "        text = l[l.find(\" \") + 1:]\n",
    "        if check_contain(remove_word, text):\n",
    "            data.append((name, text))"
   ]
  },
  {
   "cell_type": "code",
   "execution_count": 21,
   "metadata": {},
   "outputs": [],
   "source": [
    "prev = \"\"\n",
    "comment = \"\"\n",
    "preprocessed_data = []\n",
    "for i, row in enumerate(data):\n",
    "    usr = row[0]\n",
    "    text = row[1]\n",
    "    \n",
    "    ######## text prepocess #########\n",
    "    text = text.strip(\"\\n\")\n",
    "    text = text.replace(\"ㅋ\", \"\")\n",
    "    text = text.replace(\";\", \"\")\n",
    "    #################################\n",
    "    \n",
    "    if i == 0:\n",
    "        prev = row[0]\n",
    "        \n",
    "    if prev != row[0]:\n",
    "        prev = row[0]\n",
    "        preprocessed_data.append(comment)\n",
    "        comment = text\n",
    "    else:\n",
    "        comment += \" \" + text"
   ]
  },
  {
   "cell_type": "code",
   "execution_count": 23,
   "metadata": {},
   "outputs": [],
   "source": [
    "import pandas as pd\n",
    "\n",
    "df = pd.DataFrame({\"Q\": preprocessed_data[:-1], \"A\": preprocessed_data[1:]})"
   ]
  },
  {
   "cell_type": "code",
   "execution_count": 26,
   "metadata": {},
   "outputs": [],
   "source": [
    "df.to_csv(file_name[:-3] + \"csv\", encoding=\"UTF-8-sig\")"
   ]
  },
  {
   "cell_type": "code",
   "execution_count": null,
   "metadata": {},
   "outputs": [],
   "source": []
  }
 ],
 "metadata": {
  "kernelspec": {
   "display_name": "Python 3",
   "language": "python",
   "name": "python3"
  },
  "language_info": {
   "codemirror_mode": {
    "name": "ipython",
    "version": 3
   },
   "file_extension": ".py",
   "mimetype": "text/x-python",
   "name": "python",
   "nbconvert_exporter": "python",
   "pygments_lexer": "ipython3",
   "version": "3.7.4"
  }
 },
 "nbformat": 4,
 "nbformat_minor": 2
}
