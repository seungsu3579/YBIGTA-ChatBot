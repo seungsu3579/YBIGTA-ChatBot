{
 "cells": [
  {
   "cell_type": "markdown",
   "metadata": {
    "colab_type": "text",
    "id": "wSs9MfdZGm1D"
   },
   "source": [
    "# colab 설정"
   ]
  },
  {
   "cell_type": "code",
   "execution_count": 1,
   "metadata": {
    "colab": {
     "base_uri": "https://localhost:8080/",
     "height": 125
    },
    "colab_type": "code",
    "executionInfo": {
     "elapsed": 28737,
     "status": "ok",
     "timestamp": 1593518462509,
     "user": {
      "displayName": "‍김승유(학부학생/공과대학 산업공학과)",
      "photoUrl": "",
      "userId": "01309828358390765454"
     },
     "user_tz": -540
    },
    "id": "IxtMbQsl1izG",
    "outputId": "1384fb45-da7a-49ce-94f2-794f8c54f2c6"
   },
   "outputs": [
    {
     "name": "stdout",
     "output_type": "stream",
     "text": [
      "Go to this URL in a browser: https://accounts.google.com/o/oauth2/auth?client_id=947318989803-6bn6qk8qdgf4n4g3pfee6491hc0brc4i.apps.googleusercontent.com&redirect_uri=urn%3aietf%3awg%3aoauth%3a2.0%3aoob&response_type=code&scope=email%20https%3a%2f%2fwww.googleapis.com%2fauth%2fdocs.test%20https%3a%2f%2fwww.googleapis.com%2fauth%2fdrive%20https%3a%2f%2fwww.googleapis.com%2fauth%2fdrive.photos.readonly%20https%3a%2f%2fwww.googleapis.com%2fauth%2fpeopleapi.readonly\n",
      "\n",
      "Enter your authorization code:\n",
      "··········\n",
      "Mounted at /content/gdrive\n"
     ]
    }
   ],
   "source": [
    "from google.colab import auth\n",
    "auth.authenticate_user()\n",
    "\n",
    "from google.colab import drive\n",
    "drive.mount('/content/gdrive', force_remount=False)"
   ]
  },
  {
   "cell_type": "code",
   "execution_count": 2,
   "metadata": {
    "colab": {
     "base_uri": "https://localhost:8080/",
     "height": 34
    },
    "colab_type": "code",
    "executionInfo": {
     "elapsed": 991,
     "status": "ok",
     "timestamp": 1593518466406,
     "user": {
      "displayName": "‍김승유(학부학생/공과대학 산업공학과)",
      "photoUrl": "",
      "userId": "01309828358390765454"
     },
     "user_tz": -540
    },
    "id": "13IyLjrd1whx",
    "outputId": "62def505-464b-418c-f567-80d558cff47d"
   },
   "outputs": [
    {
     "name": "stdout",
     "output_type": "stream",
     "text": [
      "/content/gdrive/My Drive/colab/kobert_practice\n"
     ]
    }
   ],
   "source": [
    "import os\n",
    "from pathlib import Path\n",
    "\n",
    "folder = \"colab/kobert_practice\" ## 자기 드라이브 경로 입력\n",
    "\n",
    "base_path = Path(\"/content/gdrive/My Drive/\")\n",
    "project_path = base_path / folder\n",
    "os.chdir(project_path)\n",
    "for x in list(project_path.glob(\"*\")):\n",
    "    if x.is_dir():\n",
    "        dir_name = str(x.relative_to(project_path))\n",
    "        os.rename(dir_name, dir_name.split(\" \", 1)[0])\n",
    "print(f\"{os.getcwd()}\")"
   ]
  },
  {
   "cell_type": "markdown",
   "metadata": {
    "colab_type": "text",
    "id": "Eic5CqgGGs85"
   },
   "source": [
    "# 패키지 설치"
   ]
  },
  {
   "cell_type": "code",
   "execution_count": 3,
   "metadata": {
    "colab": {
     "base_uri": "https://localhost:8080/",
     "height": 34
    },
    "colab_type": "code",
    "executionInfo": {
     "elapsed": 3914,
     "status": "ok",
     "timestamp": 1593518575008,
     "user": {
      "displayName": "‍김승유(학부학생/공과대학 산업공학과)",
      "photoUrl": "",
      "userId": "01309828358390765454"
     },
     "user_tz": -540
    },
    "id": "sCqjrY-y2njC",
    "outputId": "edfbc69e-6380-4be8-f0db-1b36c7d2f287"
   },
   "outputs": [
    {
     "name": "stdout",
     "output_type": "stream",
     "text": [
      "fatal: destination path 'KoBERT' already exists and is not an empty directory.\n"
     ]
    }
   ],
   "source": [
    "!git clone https://github.com/SKTBrain/KoBERT.git"
   ]
  },
  {
   "cell_type": "code",
   "execution_count": 4,
   "metadata": {
    "colab": {
     "base_uri": "https://localhost:8080/",
     "height": 34
    },
    "colab_type": "code",
    "executionInfo": {
     "elapsed": 3391,
     "status": "ok",
     "timestamp": 1593518575012,
     "user": {
      "displayName": "‍김승유(학부학생/공과대학 산업공학과)",
      "photoUrl": "",
      "userId": "01309828358390765454"
     },
     "user_tz": -540
    },
    "id": "8-df13Hp295B",
    "outputId": "3f24b42c-b8c2-4bf8-ab15-eaf625d821ff"
   },
   "outputs": [
    {
     "name": "stdout",
     "output_type": "stream",
     "text": [
      "/content/gdrive/My Drive/colab/kobert_practice/KoBERT\n"
     ]
    }
   ],
   "source": [
    "cd KoBERT"
   ]
  },
  {
   "cell_type": "code",
   "execution_count": 5,
   "metadata": {
    "colab": {
     "base_uri": "https://localhost:8080/",
     "height": 158
    },
    "colab_type": "code",
    "executionInfo": {
     "elapsed": 32653,
     "status": "ok",
     "timestamp": 1593518604706,
     "user": {
      "displayName": "‍김승유(학부학생/공과대학 산업공학과)",
      "photoUrl": "",
      "userId": "01309828358390765454"
     },
     "user_tz": -540
    },
    "id": "i3UEA1xYpIhC",
    "outputId": "c997c619-562b-4c61-a2a2-7f059d7059f3"
   },
   "outputs": [
    {
     "name": "stdout",
     "output_type": "stream",
     "text": [
      "Processing /content/gdrive/My Drive/colab/kobert_practice/KoBERT\n",
      "Building wheels for collected packages: kobert\n",
      "  Building wheel for kobert (setup.py) ... \u001b[?25l\u001b[?25hdone\n",
      "  Created wheel for kobert: filename=kobert-0.1.1-cp36-none-any.whl size=12871 sha256=5250bde3eed680d09fd349cf8d562e527d2d7648f05a35c13e93b3df10cef67f\n",
      "  Stored in directory: /tmp/pip-ephem-wheel-cache-tkrs__6x/wheels/53/e2/21/b2bac12c9a221a4aa86986c340e3543464e875f2055516f278\n",
      "Successfully built kobert\n",
      "Installing collected packages: kobert\n",
      "Successfully installed kobert-0.1.1\n"
     ]
    }
   ],
   "source": [
    "!pip install ."
   ]
  },
  {
   "cell_type": "code",
   "execution_count": 6,
   "metadata": {
    "colab": {
     "base_uri": "https://localhost:8080/",
     "height": 1000
    },
    "colab_type": "code",
    "executionInfo": {
     "elapsed": 297534,
     "status": "ok",
     "timestamp": 1593518870078,
     "user": {
      "displayName": "‍김승유(학부학생/공과대학 산업공학과)",
      "photoUrl": "",
      "userId": "01309828358390765454"
     },
     "user_tz": -540
    },
    "id": "A-BkiysZ3AK9",
    "outputId": "785422c5-47db-4f8f-ee3a-822c6be5d265"
   },
   "outputs": [
    {
     "name": "stdout",
     "output_type": "stream",
     "text": [
      "Requirement already satisfied: torch>=1.1.0 in /usr/local/lib/python3.6/dist-packages (from -r requirements.txt (line 1)) (1.5.1+cu101)\n",
      "Collecting mxnet>=1.4.0\n",
      "\u001b[?25l  Downloading https://files.pythonhosted.org/packages/81/f5/d79b5b40735086ff1100c680703e0f3efc830fa455e268e9e96f3c857e93/mxnet-1.6.0-py2.py3-none-any.whl (68.7MB)\n",
      "\u001b[K     |████████████████████████████████| 68.7MB 43kB/s \n",
      "\u001b[?25hCollecting gluonnlp>=0.6.0\n",
      "\u001b[?25l  Downloading https://files.pythonhosted.org/packages/c6/27/07b57d22496ed6c98b247e578712122402487f5c265ec70a747900f97060/gluonnlp-0.9.1.tar.gz (252kB)\n",
      "\u001b[K     |████████████████████████████████| 256kB 44.2MB/s \n",
      "\u001b[?25hCollecting sentencepiece>=0.1.6\n",
      "\u001b[?25l  Downloading https://files.pythonhosted.org/packages/d4/a4/d0a884c4300004a78cca907a6ff9a5e9fe4f090f5d95ab341c53d28cbc58/sentencepiece-0.1.91-cp36-cp36m-manylinux1_x86_64.whl (1.1MB)\n",
      "\u001b[K     |████████████████████████████████| 1.1MB 33.7MB/s \n",
      "\u001b[?25hCollecting onnxruntime>=0.3.0\n",
      "\u001b[?25l  Downloading https://files.pythonhosted.org/packages/5b/37/572986fb63e0df4e026c5f4c11f6a8977344293587b451d9210a429f5882/onnxruntime-1.3.0-cp36-cp36m-manylinux1_x86_64.whl (3.9MB)\n",
      "\u001b[K     |████████████████████████████████| 3.9MB 42.1MB/s \n",
      "\u001b[?25hCollecting transformers>=2.1.1\n",
      "\u001b[?25l  Downloading https://files.pythonhosted.org/packages/9c/35/1c3f6e62d81f5f0daff1384e6d5e6c5758682a8357ebc765ece2b9def62b/transformers-3.0.0-py3-none-any.whl (754kB)\n",
      "\u001b[K     |████████████████████████████████| 757kB 41.4MB/s \n",
      "\u001b[?25hRequirement already satisfied: numpy in /usr/local/lib/python3.6/dist-packages (from torch>=1.1.0->-r requirements.txt (line 1)) (1.18.5)\n",
      "Requirement already satisfied: future in /usr/local/lib/python3.6/dist-packages (from torch>=1.1.0->-r requirements.txt (line 1)) (0.16.0)\n",
      "Collecting graphviz<0.9.0,>=0.8.1\n",
      "  Downloading https://files.pythonhosted.org/packages/53/39/4ab213673844e0c004bed8a0781a0721a3f6bb23eb8854ee75c236428892/graphviz-0.8.4-py2.py3-none-any.whl\n",
      "Requirement already satisfied: requests<3,>=2.20.0 in /usr/local/lib/python3.6/dist-packages (from mxnet>=1.4.0->-r requirements.txt (line 2)) (2.23.0)\n",
      "Requirement already satisfied: cython in /usr/local/lib/python3.6/dist-packages (from gluonnlp>=0.6.0->-r requirements.txt (line 3)) (0.29.20)\n",
      "Requirement already satisfied: packaging in /usr/local/lib/python3.6/dist-packages (from gluonnlp>=0.6.0->-r requirements.txt (line 3)) (20.4)\n",
      "Requirement already satisfied: protobuf in /usr/local/lib/python3.6/dist-packages (from onnxruntime>=0.3.0->-r requirements.txt (line 5)) (3.10.0)\n",
      "Collecting onnx>=1.2.3\n",
      "\u001b[?25l  Downloading https://files.pythonhosted.org/packages/36/ee/bc7bc88fc8449266add978627e90c363069211584b937fd867b0ccc59f09/onnx-1.7.0-cp36-cp36m-manylinux1_x86_64.whl (7.4MB)\n",
      "\u001b[K     |████████████████████████████████| 7.4MB 32.7MB/s \n",
      "\u001b[?25hCollecting sacremoses\n",
      "\u001b[?25l  Downloading https://files.pythonhosted.org/packages/7d/34/09d19aff26edcc8eb2a01bed8e98f13a1537005d31e95233fd48216eed10/sacremoses-0.0.43.tar.gz (883kB)\n",
      "\u001b[K     |████████████████████████████████| 890kB 36.6MB/s \n",
      "\u001b[?25hRequirement already satisfied: tqdm>=4.27 in /usr/local/lib/python3.6/dist-packages (from transformers>=2.1.1->-r requirements.txt (line 6)) (4.41.1)\n",
      "Requirement already satisfied: dataclasses; python_version < \"3.7\" in /usr/local/lib/python3.6/dist-packages (from transformers>=2.1.1->-r requirements.txt (line 6)) (0.7)\n",
      "Requirement already satisfied: filelock in /usr/local/lib/python3.6/dist-packages (from transformers>=2.1.1->-r requirements.txt (line 6)) (3.0.12)\n",
      "Requirement already satisfied: regex!=2019.12.17 in /usr/local/lib/python3.6/dist-packages (from transformers>=2.1.1->-r requirements.txt (line 6)) (2019.12.20)\n",
      "Collecting tokenizers==0.8.0-rc4\n",
      "\u001b[?25l  Downloading https://files.pythonhosted.org/packages/e8/bd/e5abec46af977c8a1375c1dca7cb1e5b3ec392ef279067af7f6bc50491a0/tokenizers-0.8.0rc4-cp36-cp36m-manylinux1_x86_64.whl (3.0MB)\n",
      "\u001b[K     |████████████████████████████████| 3.0MB 31.5MB/s \n",
      "\u001b[?25hRequirement already satisfied: urllib3!=1.25.0,!=1.25.1,<1.26,>=1.21.1 in /usr/local/lib/python3.6/dist-packages (from requests<3,>=2.20.0->mxnet>=1.4.0->-r requirements.txt (line 2)) (1.24.3)\n",
      "Requirement already satisfied: certifi>=2017.4.17 in /usr/local/lib/python3.6/dist-packages (from requests<3,>=2.20.0->mxnet>=1.4.0->-r requirements.txt (line 2)) (2020.6.20)\n",
      "Requirement already satisfied: chardet<4,>=3.0.2 in /usr/local/lib/python3.6/dist-packages (from requests<3,>=2.20.0->mxnet>=1.4.0->-r requirements.txt (line 2)) (3.0.4)\n",
      "Requirement already satisfied: idna<3,>=2.5 in /usr/local/lib/python3.6/dist-packages (from requests<3,>=2.20.0->mxnet>=1.4.0->-r requirements.txt (line 2)) (2.9)\n",
      "Requirement already satisfied: pyparsing>=2.0.2 in /usr/local/lib/python3.6/dist-packages (from packaging->gluonnlp>=0.6.0->-r requirements.txt (line 3)) (2.4.7)\n",
      "Requirement already satisfied: six in /usr/local/lib/python3.6/dist-packages (from packaging->gluonnlp>=0.6.0->-r requirements.txt (line 3)) (1.12.0)\n",
      "Requirement already satisfied: setuptools in /usr/local/lib/python3.6/dist-packages (from protobuf->onnxruntime>=0.3.0->-r requirements.txt (line 5)) (47.3.1)\n",
      "Requirement already satisfied: typing-extensions>=3.6.2.1 in /usr/local/lib/python3.6/dist-packages (from onnx>=1.2.3->onnxruntime>=0.3.0->-r requirements.txt (line 5)) (3.6.6)\n",
      "Requirement already satisfied: click in /usr/local/lib/python3.6/dist-packages (from sacremoses->transformers>=2.1.1->-r requirements.txt (line 6)) (7.1.2)\n",
      "Requirement already satisfied: joblib in /usr/local/lib/python3.6/dist-packages (from sacremoses->transformers>=2.1.1->-r requirements.txt (line 6)) (0.15.1)\n",
      "Building wheels for collected packages: gluonnlp, sacremoses\n",
      "  Building wheel for gluonnlp (setup.py) ... \u001b[?25l\u001b[?25hdone\n",
      "  Created wheel for gluonnlp: filename=gluonnlp-0.9.1-cp36-cp36m-linux_x86_64.whl size=470058 sha256=cb9173049d8fd8491c9587ba112f15ec8a9ccf1a0d0b7b9d31e91b5e0318db7c\n",
      "  Stored in directory: /root/.cache/pip/wheels/af/60/16/1f8a40e68b85bd9bd7960e91830bca5e40cd113f3220b7e231\n",
      "  Building wheel for sacremoses (setup.py) ... \u001b[?25l\u001b[?25hdone\n",
      "  Created wheel for sacremoses: filename=sacremoses-0.0.43-cp36-none-any.whl size=893260 sha256=ba8cc0d43b8d1b875a068ab1dc535dc3fe57f3efb124af9c0b0d5213b33a0d15\n",
      "  Stored in directory: /root/.cache/pip/wheels/29/3c/fd/7ce5c3f0666dab31a50123635e6fb5e19ceb42ce38d4e58f45\n",
      "Successfully built gluonnlp sacremoses\n",
      "Installing collected packages: graphviz, mxnet, gluonnlp, sentencepiece, onnx, onnxruntime, sacremoses, tokenizers, transformers\n",
      "  Found existing installation: graphviz 0.10.1\n",
      "    Uninstalling graphviz-0.10.1:\n",
      "      Successfully uninstalled graphviz-0.10.1\n",
      "Successfully installed gluonnlp-0.9.1 graphviz-0.8.4 mxnet-1.6.0 onnx-1.7.0 onnxruntime-1.3.0 sacremoses-0.0.43 sentencepiece-0.1.91 tokenizers-0.8.0rc4 transformers-3.0.0\n",
      "Collecting mxnet-cu101\n",
      "\u001b[?25l  Downloading https://files.pythonhosted.org/packages/54/b1/7d01abca10eef104296d2b3f0c59a7dda7573126d079c9e2609e6c17993b/mxnet_cu101-1.6.0-py2.py3-none-manylinux1_x86_64.whl (710.5MB)\n",
      "\u001b[K     |████████████████████████████████| 710.5MB 26kB/s \n",
      "\u001b[?25hRequirement already satisfied: requests<3,>=2.20.0 in /usr/local/lib/python3.6/dist-packages (from mxnet-cu101) (2.23.0)\n",
      "Requirement already satisfied: graphviz<0.9.0,>=0.8.1 in /usr/local/lib/python3.6/dist-packages (from mxnet-cu101) (0.8.4)\n",
      "Requirement already satisfied: numpy<2.0.0,>1.16.0 in /usr/local/lib/python3.6/dist-packages (from mxnet-cu101) (1.18.5)\n",
      "Requirement already satisfied: certifi>=2017.4.17 in /usr/local/lib/python3.6/dist-packages (from requests<3,>=2.20.0->mxnet-cu101) (2020.6.20)\n",
      "Requirement already satisfied: urllib3!=1.25.0,!=1.25.1,<1.26,>=1.21.1 in /usr/local/lib/python3.6/dist-packages (from requests<3,>=2.20.0->mxnet-cu101) (1.24.3)\n",
      "Requirement already satisfied: chardet<4,>=3.0.2 in /usr/local/lib/python3.6/dist-packages (from requests<3,>=2.20.0->mxnet-cu101) (3.0.4)\n",
      "Requirement already satisfied: idna<3,>=2.5 in /usr/local/lib/python3.6/dist-packages (from requests<3,>=2.20.0->mxnet-cu101) (2.9)\n",
      "Installing collected packages: mxnet-cu101\n",
      "Successfully installed mxnet-cu101-1.6.0\n",
      "Requirement already satisfied: gluonnlp in /usr/local/lib/python3.6/dist-packages (0.9.1)\n",
      "Requirement already satisfied: pandas in /usr/local/lib/python3.6/dist-packages (1.0.5)\n",
      "Requirement already satisfied: tqdm in /usr/local/lib/python3.6/dist-packages (4.41.1)\n",
      "Requirement already satisfied: cython in /usr/local/lib/python3.6/dist-packages (from gluonnlp) (0.29.20)\n",
      "Requirement already satisfied: numpy>=1.16.0 in /usr/local/lib/python3.6/dist-packages (from gluonnlp) (1.18.5)\n",
      "Requirement already satisfied: packaging in /usr/local/lib/python3.6/dist-packages (from gluonnlp) (20.4)\n",
      "Requirement already satisfied: python-dateutil>=2.6.1 in /usr/local/lib/python3.6/dist-packages (from pandas) (2.8.1)\n",
      "Requirement already satisfied: pytz>=2017.2 in /usr/local/lib/python3.6/dist-packages (from pandas) (2018.9)\n",
      "Requirement already satisfied: six in /usr/local/lib/python3.6/dist-packages (from packaging->gluonnlp) (1.12.0)\n",
      "Requirement already satisfied: pyparsing>=2.0.2 in /usr/local/lib/python3.6/dist-packages (from packaging->gluonnlp) (2.4.7)\n",
      "Collecting transformers==2.1.1\n",
      "\u001b[?25l  Downloading https://files.pythonhosted.org/packages/fd/f9/51824e40f0a23a49eab4fcaa45c1c797cbf9761adedd0b558dab7c958b34/transformers-2.1.1-py3-none-any.whl (311kB)\n",
      "\u001b[K     |████████████████████████████████| 317kB 7.1MB/s \n",
      "\u001b[?25hRequirement already satisfied: boto3 in /usr/local/lib/python3.6/dist-packages (from transformers==2.1.1) (1.14.9)\n",
      "Requirement already satisfied: sentencepiece in /usr/local/lib/python3.6/dist-packages (from transformers==2.1.1) (0.1.91)\n",
      "Requirement already satisfied: tqdm in /usr/local/lib/python3.6/dist-packages (from transformers==2.1.1) (4.41.1)\n",
      "Requirement already satisfied: sacremoses in /usr/local/lib/python3.6/dist-packages (from transformers==2.1.1) (0.0.43)\n",
      "Requirement already satisfied: requests in /usr/local/lib/python3.6/dist-packages (from transformers==2.1.1) (2.23.0)\n",
      "Requirement already satisfied: numpy in /usr/local/lib/python3.6/dist-packages (from transformers==2.1.1) (1.18.5)\n",
      "Requirement already satisfied: regex in /usr/local/lib/python3.6/dist-packages (from transformers==2.1.1) (2019.12.20)\n",
      "Requirement already satisfied: botocore<1.18.0,>=1.17.9 in /usr/local/lib/python3.6/dist-packages (from boto3->transformers==2.1.1) (1.17.9)\n",
      "Requirement already satisfied: jmespath<1.0.0,>=0.7.1 in /usr/local/lib/python3.6/dist-packages (from boto3->transformers==2.1.1) (0.10.0)\n",
      "Requirement already satisfied: s3transfer<0.4.0,>=0.3.0 in /usr/local/lib/python3.6/dist-packages (from boto3->transformers==2.1.1) (0.3.3)\n",
      "Requirement already satisfied: six in /usr/local/lib/python3.6/dist-packages (from sacremoses->transformers==2.1.1) (1.12.0)\n",
      "Requirement already satisfied: joblib in /usr/local/lib/python3.6/dist-packages (from sacremoses->transformers==2.1.1) (0.15.1)\n",
      "Requirement already satisfied: click in /usr/local/lib/python3.6/dist-packages (from sacremoses->transformers==2.1.1) (7.1.2)\n",
      "Requirement already satisfied: idna<3,>=2.5 in /usr/local/lib/python3.6/dist-packages (from requests->transformers==2.1.1) (2.9)\n",
      "Requirement already satisfied: urllib3!=1.25.0,!=1.25.1,<1.26,>=1.21.1 in /usr/local/lib/python3.6/dist-packages (from requests->transformers==2.1.1) (1.24.3)\n",
      "Requirement already satisfied: chardet<4,>=3.0.2 in /usr/local/lib/python3.6/dist-packages (from requests->transformers==2.1.1) (3.0.4)\n",
      "Requirement already satisfied: certifi>=2017.4.17 in /usr/local/lib/python3.6/dist-packages (from requests->transformers==2.1.1) (2020.6.20)\n",
      "Requirement already satisfied: docutils<0.16,>=0.10 in /usr/local/lib/python3.6/dist-packages (from botocore<1.18.0,>=1.17.9->boto3->transformers==2.1.1) (0.15.2)\n",
      "Requirement already satisfied: python-dateutil<3.0.0,>=2.1 in /usr/local/lib/python3.6/dist-packages (from botocore<1.18.0,>=1.17.9->boto3->transformers==2.1.1) (2.8.1)\n",
      "Installing collected packages: transformers\n",
      "  Found existing installation: transformers 3.0.0\n",
      "    Uninstalling transformers-3.0.0:\n",
      "      Successfully uninstalled transformers-3.0.0\n",
      "Successfully installed transformers-2.1.1\n",
      "Collecting torch==1.3.1\n",
      "\u001b[?25l  Downloading https://files.pythonhosted.org/packages/88/95/90e8c4c31cfc67248bf944ba42029295b77159982f532c5689bcfe4e9108/torch-1.3.1-cp36-cp36m-manylinux1_x86_64.whl (734.6MB)\n",
      "\u001b[K     |████████████████████████████████| 734.6MB 22kB/s \n",
      "\u001b[?25hRequirement already satisfied: numpy in /usr/local/lib/python3.6/dist-packages (from torch==1.3.1) (1.18.5)\n",
      "\u001b[31mERROR: torchvision 0.6.1+cu101 has requirement torch==1.5.1, but you'll have torch 1.3.1 which is incompatible.\u001b[0m\n",
      "Installing collected packages: torch\n",
      "  Found existing installation: torch 1.5.1+cu101\n",
      "    Uninstalling torch-1.5.1+cu101:\n",
      "      Successfully uninstalled torch-1.5.1+cu101\n",
      "Successfully installed torch-1.3.1\n"
     ]
    }
   ],
   "source": [
    "!pip install -r requirements.txt\n",
    "!pip install mxnet-cu101\n",
    "!pip install gluonnlp pandas tqdm\n",
    "!pip install transformers==2.1.1\n",
    "!pip install torch==1.3.1"
   ]
  },
  {
   "cell_type": "code",
   "execution_count": 7,
   "metadata": {
    "colab": {
     "base_uri": "https://localhost:8080/",
     "height": 34
    },
    "colab_type": "code",
    "executionInfo": {
     "elapsed": 296793,
     "status": "ok",
     "timestamp": 1593518870080,
     "user": {
      "displayName": "‍김승유(학부학생/공과대학 산업공학과)",
      "photoUrl": "",
      "userId": "01309828358390765454"
     },
     "user_tz": -540
    },
    "id": "VUS76XjNLI7B",
    "outputId": "dd653a8c-a065-4a96-8f73-ea6af9acef1d"
   },
   "outputs": [
    {
     "name": "stdout",
     "output_type": "stream",
     "text": [
      "/content/gdrive/My Drive/colab/kobert_practice\n"
     ]
    }
   ],
   "source": [
    "cd .."
   ]
  },
  {
   "cell_type": "markdown",
   "metadata": {
    "colab_type": "text",
    "id": "lnW2HX_vG00u"
   },
   "source": [
    "# 패키지 로드, class 정의"
   ]
  },
  {
   "cell_type": "code",
   "execution_count": 9,
   "metadata": {
    "colab": {},
    "colab_type": "code",
    "executionInfo": {
     "elapsed": 24594,
     "status": "ok",
     "timestamp": 1593518904213,
     "user": {
      "displayName": "‍김승유(학부학생/공과대학 산업공학과)",
      "photoUrl": "",
      "userId": "01309828358390765454"
     },
     "user_tz": -540
    },
    "id": "_ZdaVQrJ3Vej"
   },
   "outputs": [],
   "source": [
    "import torch\n",
    "import torch.nn as nn\n",
    "import torch.nn.functional as F\n",
    "import torch.optim as optim\n",
    "from torch.utils.data import Dataset, DataLoader\n",
    "import gluonnlp as nlp\n",
    "import numpy as np\n",
    "from tqdm import tqdm, tqdm_notebook\n",
    "from kobert.pytorch_kobert import get_pytorch_kobert_model\n",
    "import pandas as pd\n",
    "import numpy as np\n",
    "from kobert.utils import get_tokenizer\n",
    "from transformers import AdamW\n",
    "from transformers.optimization import WarmupLinearSchedule\n",
    "import random"
   ]
  },
  {
   "cell_type": "code",
   "execution_count": 10,
   "metadata": {
    "colab": {},
    "colab_type": "code",
    "executionInfo": {
     "elapsed": 23288,
     "status": "ok",
     "timestamp": 1593518904214,
     "user": {
      "displayName": "‍김승유(학부학생/공과대학 산업공학과)",
      "photoUrl": "",
      "userId": "01309828358390765454"
     },
     "user_tz": -540
    },
    "id": "iaCpP4_93fsr"
   },
   "outputs": [],
   "source": [
    "device = 'cuda' if torch.cuda.is_available() else 'cpu'"
   ]
  },
  {
   "cell_type": "code",
   "execution_count": 11,
   "metadata": {
    "colab": {
     "base_uri": "https://localhost:8080/",
     "height": 52
    },
    "colab_type": "code",
    "executionInfo": {
     "elapsed": 66469,
     "status": "ok",
     "timestamp": 1593519513877,
     "user": {
      "displayName": "‍김승유(학부학생/공과대학 산업공학과)",
      "photoUrl": "",
      "userId": "01309828358390765454"
     },
     "user_tz": -540
    },
    "id": "1tFFihDqBN8n",
    "outputId": "38ded0cb-201a-4f38-9111-7f496b38a00d"
   },
   "outputs": [
    {
     "name": "stdout",
     "output_type": "stream",
     "text": [
      "[██████████████████████████████████████████████████]\n",
      "[██████████████████████████████████████████████████]\n"
     ]
    }
   ],
   "source": [
    "bertmodel, vocab = get_pytorch_kobert_model()"
   ]
  },
  {
   "cell_type": "code",
   "execution_count": 12,
   "metadata": {
    "colab": {
     "base_uri": "https://localhost:8080/",
     "height": 34
    },
    "colab_type": "code",
    "executionInfo": {
     "elapsed": 63221,
     "status": "ok",
     "timestamp": 1593519513878,
     "user": {
      "displayName": "‍김승유(학부학생/공과대학 산업공학과)",
      "photoUrl": "",
      "userId": "01309828358390765454"
     },
     "user_tz": -540
    },
    "id": "4CJtUfuJIJY_",
    "outputId": "e25618da-2526-47ee-efdf-71f37d0af599"
   },
   "outputs": [
    {
     "name": "stdout",
     "output_type": "stream",
     "text": [
      "using cached model\n"
     ]
    }
   ],
   "source": [
    "tokenizer = get_tokenizer()\n",
    "tok = nlp.data.BERTSPTokenizer(tokenizer, vocab, lower=False)"
   ]
  },
  {
   "cell_type": "code",
   "execution_count": 13,
   "metadata": {
    "colab": {},
    "colab_type": "code",
    "executionInfo": {
     "elapsed": 61030,
     "status": "ok",
     "timestamp": 1593519514177,
     "user": {
      "displayName": "‍김승유(학부학생/공과대학 산업공학과)",
      "photoUrl": "",
      "userId": "01309828358390765454"
     },
     "user_tz": -540
    },
    "id": "kXDGZLaWLM3Z"
   },
   "outputs": [],
   "source": [
    "train_data = pd.read_csv('data/ChatbotData .csv')"
   ]
  },
  {
   "cell_type": "code",
   "execution_count": 14,
   "metadata": {
    "colab": {},
    "colab_type": "code",
    "executionInfo": {
     "elapsed": 60627,
     "status": "ok",
     "timestamp": 1593519514178,
     "user": {
      "displayName": "‍김승유(학부학생/공과대학 산업공학과)",
      "photoUrl": "",
      "userId": "01309828358390765454"
     },
     "user_tz": -540
    },
    "id": "wQ0GK2D7Bsnp"
   },
   "outputs": [],
   "source": [
    "class ChatDataset(Dataset):\n",
    "  def __init__(self, dataset, q_idx, a_idx, bert_tokenizer, max_len, pad, pair):\n",
    "    transform = nlp.data.BERTSentenceTransform(\n",
    "        bert_tokenizer, max_seq_length=max_len, pad=pad, pair=pair)\n",
    "    \n",
    "    self.question = [transform([dataset.loc[i][q_idx]]) for i in range(len(dataset))]\n",
    "    self.answer = [transform([dataset.loc[i][a_idx]]) for i in range(len(dataset))]\n",
    "\n",
    "  def __getitem__(self, i):\n",
    "    return (self.question[i] + (self.answer[i][0],self.answer[i][1]))\n",
    "  \n",
    "  def __len__(self):\n",
    "    return (len(self.answer))"
   ]
  },
  {
   "cell_type": "code",
   "execution_count": 15,
   "metadata": {
    "colab": {},
    "colab_type": "code",
    "executionInfo": {
     "elapsed": 60023,
     "status": "ok",
     "timestamp": 1593519514178,
     "user": {
      "displayName": "‍김승유(학부학생/공과대학 산업공학과)",
      "photoUrl": "",
      "userId": "01309828358390765454"
     },
     "user_tz": -540
    },
    "id": "W2aVfBYzNEUC"
   },
   "outputs": [],
   "source": [
    "## 하이퍼 파라미터 설정\n",
    "max_len = 100\n",
    "batch_size = 32\n",
    "warmup_ratio = 0.1\n",
    "num_epochs = 160\n",
    "num_workers = 0\n",
    "max_grad_norm = 1\n",
    "learning_rate =  5e-5\n",
    "print_every = 150\n",
    "save_every = 20\n",
    "embed_dim = 100 \n",
    "vocab_size = len(vocab.idx_to_token)"
   ]
  },
  {
   "cell_type": "code",
   "execution_count": 16,
   "metadata": {
    "colab": {},
    "colab_type": "code",
    "executionInfo": {
     "elapsed": 69044,
     "status": "ok",
     "timestamp": 1593519523967,
     "user": {
      "displayName": "‍김승유(학부학생/공과대학 산업공학과)",
      "photoUrl": "",
      "userId": "01309828358390765454"
     },
     "user_tz": -540
    },
    "id": "cSpnn0SUMtLr"
   },
   "outputs": [],
   "source": [
    "train_dataset = ChatDataset(train_data, \"Q\", \"A\", tok, max_len, True, False)"
   ]
  },
  {
   "cell_type": "code",
   "execution_count": 17,
   "metadata": {
    "colab": {},
    "colab_type": "code",
    "executionInfo": {
     "elapsed": 68441,
     "status": "ok",
     "timestamp": 1593519523968,
     "user": {
      "displayName": "‍김승유(학부학생/공과대학 산업공학과)",
      "photoUrl": "",
      "userId": "01309828358390765454"
     },
     "user_tz": -540
    },
    "id": "EDPaQaM4NXHV"
   },
   "outputs": [],
   "source": [
    "train_loader = DataLoader(train_dataset, batch_size=batch_size, num_workers=num_workers, shuffle=True)"
   ]
  },
  {
   "cell_type": "code",
   "execution_count": 18,
   "metadata": {
    "colab": {},
    "colab_type": "code",
    "executionInfo": {
     "elapsed": 68018,
     "status": "ok",
     "timestamp": 1593519523968,
     "user": {
      "displayName": "‍김승유(학부학생/공과대학 산업공학과)",
      "photoUrl": "",
      "userId": "01309828358390765454"
     },
     "user_tz": -540
    },
    "id": "JNSJrV-JNhvx"
   },
   "outputs": [],
   "source": [
    "class Encoder(nn.Module):\n",
    "  def __init__(self, bert):\n",
    "    super(Encoder, self).__init__()\n",
    "    self.bert = bert\n",
    "    \n",
    "  def gen_attention_mask(self, token_ids, valid_length):\n",
    "    ## masked attenion, 패딩에 패널티 부여, 학습 x\n",
    "    attention_mask = torch.zeros_like(token_ids)\n",
    "    for i, v in enumerate(valid_length):\n",
    "        attention_mask[i][:v] = 1\n",
    "    return attention_mask.float()\n",
    "  \n",
    "  def forward(self, token_ids, valid_length, segment_ids):\n",
    "    attention_mask = self.gen_attention_mask(token_ids, valid_length)\n",
    "\n",
    "    output, hidden = self.bert(input_ids = token_ids, token_type_ids = segment_ids.long(), attention_mask = attention_mask.float().to(token_ids.device))\n",
    "\n",
    "    return output, hidden"
   ]
  },
  {
   "cell_type": "code",
   "execution_count": 19,
   "metadata": {
    "colab": {},
    "colab_type": "code",
    "executionInfo": {
     "elapsed": 67670,
     "status": "ok",
     "timestamp": 1593519523969,
     "user": {
      "displayName": "‍김승유(학부학생/공과대학 산업공학과)",
      "photoUrl": "",
      "userId": "01309828358390765454"
     },
     "user_tz": -540
    },
    "id": "aOsJrCKGVeyZ"
   },
   "outputs": [],
   "source": [
    "class Attention(nn.Module):\n",
    "  def __init__(self,\n",
    "               enc_hid_dim,\n",
    "               dec_hid_dim,\n",
    "               attn_dim):\n",
    "    super().__init__()\n",
    "\n",
    "    self.enc_hid_dim = enc_hid_dim\n",
    "    self.dec_hid_dim = dec_hid_dim\n",
    "    self.attn_in = enc_hid_dim + dec_hid_dim\n",
    "    self.attn = nn.Linear(self.attn_in, attn_dim)\n",
    "  \n",
    "  def forward(self, decoder_hidden, encoder_outputs):\n",
    "    src_len = encoder_outputs.shape[1]\n",
    "\n",
    "    repeated_decoder_hidden = decoder_hidden.unsqueeze(1).repeat(1, src_len, 1)\n",
    "\n",
    "    energy = torch.tanh(self.attn(torch.cat((\n",
    "        repeated_decoder_hidden,\n",
    "        encoder_outputs),\n",
    "        dim = 2)))\n",
    "\n",
    "    attention = torch.sum(energy, dim=2)\n",
    "\n",
    "    return F.softmax(attention, dim=1) \n"
   ]
  },
  {
   "cell_type": "code",
   "execution_count": 20,
   "metadata": {
    "colab": {},
    "colab_type": "code",
    "executionInfo": {
     "elapsed": 67213,
     "status": "ok",
     "timestamp": 1593519523969,
     "user": {
      "displayName": "‍김승유(학부학생/공과대학 산업공학과)",
      "photoUrl": "",
      "userId": "01309828358390765454"
     },
     "user_tz": -540
    },
    "id": "h2WRHX8McItt"
   },
   "outputs": [],
   "source": [
    "class Decoder(nn.Module):\n",
    "  def __init__(self,\n",
    "               enc_hid_dim,\n",
    "               hidden_dim,\n",
    "               emb_dim,\n",
    "               vocab_size,\n",
    "               attention,\n",
    "               max_length,\n",
    "               dropout_rate = 0.1):\n",
    "    super(Decoder, self).__init__()\n",
    "\n",
    "    self.hidden_dim = hidden_dim\n",
    "    self.dropout_rate = dropout_rate\n",
    "    self.max_length = max_length\n",
    "    self.vocab_size = vocab_size\n",
    "    self.emb_dim = emb_dim\n",
    "    self.enc_hid_dim = enc_hid_dim\n",
    "\n",
    "    self.attention = attention\n",
    "\n",
    "    self.embedding = nn.Embedding(self.vocab_size, self.emb_dim)\n",
    "    self.gru = nn.GRU(self.enc_hid_dim + self.emb_dim, self.hidden_dim, batch_first=True)\n",
    "    self.out = nn.Linear(self.attention.attn_in, self.vocab_size)\n",
    "  \n",
    "  def _weighted_encoder_rep(self,decoder_hidden, encoder_outputs):\n",
    "    a = self.attention(decoder_hidden, encoder_outputs)\n",
    "\n",
    "    a = a.unsqueeze(1)\n",
    "\n",
    "    weighted_encoder_rep = torch.bmm(a, encoder_outputs)\n",
    "\n",
    "    return weighted_encoder_rep\n",
    "\n",
    "  def forward(self, input, decoder_hidden, encoder_outputs):\n",
    "    \n",
    "    input = input.unsqueeze(1).long()\n",
    "    embedded = self.embedding(input)\n",
    "    weighted_encoder_rep = self._weighted_encoder_rep(decoder_hidden, encoder_outputs)\n",
    " \n",
    "    input = torch.cat((embedded, weighted_encoder_rep), dim=2)\n",
    "    \n",
    "    output, decoder_hidden = self.gru(input, decoder_hidden.unsqueeze(0))\n",
    "\n",
    "    embedded = embedded.squeeze(1)\n",
    "    output = output.squeeze(1)\n",
    "    weighted_encoder_rep = weighted_encoder_rep.squeeze(1)\n",
    "\n",
    "    output = self.out(torch.cat((output, weighted_encoder_rep), dim = 1))\n",
    "\n",
    "    return output, decoder_hidden.squeeze(0)\n"
   ]
  },
  {
   "cell_type": "code",
   "execution_count": 21,
   "metadata": {
    "colab": {},
    "colab_type": "code",
    "executionInfo": {
     "elapsed": 66736,
     "status": "ok",
     "timestamp": 1593519523970,
     "user": {
      "displayName": "‍김승유(학부학생/공과대학 산업공학과)",
      "photoUrl": "",
      "userId": "01309828358390765454"
     },
     "user_tz": -540
    },
    "id": "Ij636DwG8GYo"
   },
   "outputs": [],
   "source": [
    "class Seq2Seq(nn.Module):\n",
    "  def __init__(self, encoder, decoder, device):\n",
    "    super().__init__()\n",
    "    self.encoder = encoder\n",
    "    self.decoder = decoder\n",
    "    self.device = device\n",
    "\n",
    "    self.vocab_size = self.decoder.vocab_size\n",
    "\n",
    "  def forward(self, src, valid_length, segment_ids, trg, teacher_forcing_ratio = 0.5):\n",
    "    batch_size = src.shape[0]\n",
    "    max_len = trg.shape[1]\n",
    "\n",
    "    encoder_outputs, hidden = self.encoder(src, valid_length, segment_ids)\n",
    "\n",
    "    outputs = torch.zeros(max_len, batch_size, self.vocab_size).to(self.device)\n",
    "\n",
    "    output = trg[:,0].long()\n",
    "\n",
    "    for t in range(1, max_len):\n",
    "      output, hidden = self.decoder(output, hidden, encoder_outputs)\n",
    "      outputs[t] = output\n",
    "      teacher_force = random.random() < teacher_forcing_ratio\n",
    "      top1 = output.max(1)[1]\n",
    "      output = (trg[:,t] if teacher_force else top1)\n",
    "    \n",
    "    return outputs.permute(1,2,0)"
   ]
  },
  {
   "cell_type": "code",
   "execution_count": 22,
   "metadata": {
    "colab": {},
    "colab_type": "code",
    "executionInfo": {
     "elapsed": 66164,
     "status": "ok",
     "timestamp": 1593519524265,
     "user": {
      "displayName": "‍김승유(학부학생/공과대학 산업공학과)",
      "photoUrl": "",
      "userId": "01309828358390765454"
     },
     "user_tz": -540
    },
    "id": "SVpqlGPD_Bq0"
   },
   "outputs": [],
   "source": [
    "## 모델 초기화\n",
    "encoder = Encoder(bertmodel)\n",
    "attention = Attention(768, 768, 100)\n",
    "decoder = Decoder(768, 768, embed_dim, vocab_size, attention, max_len)\n",
    "model = Seq2Seq(encoder, decoder, device).to(device)"
   ]
  },
  {
   "cell_type": "code",
   "execution_count": 23,
   "metadata": {
    "colab": {},
    "colab_type": "code",
    "executionInfo": {
     "elapsed": 64690,
     "status": "ok",
     "timestamp": 1593519524266,
     "user": {
      "displayName": "‍김승유(학부학생/공과대학 산업공학과)",
      "photoUrl": "",
      "userId": "01309828358390765454"
     },
     "user_tz": -540
    },
    "id": "jZk40KSQx2A5"
   },
   "outputs": [],
   "source": [
    "# Prepare optimizer and schedule (linear warmup and decay)\n",
    "no_decay = ['bias', 'LayerNorm.weight']\n",
    "optimizer_grouped_parameters = [\n",
    "    {'params': [p for n, p in model.named_parameters() if not any(nd in n for nd in no_decay)], 'weight_decay': 0.01},\n",
    "    {'params': [p for n, p in model.named_parameters() if any(nd in n for nd in no_decay)], 'weight_decay': 0.0}\n",
    "]"
   ]
  },
  {
   "cell_type": "code",
   "execution_count": 24,
   "metadata": {
    "colab": {},
    "colab_type": "code",
    "executionInfo": {
     "elapsed": 62094,
     "status": "ok",
     "timestamp": 1593519524267,
     "user": {
      "displayName": "‍김승유(학부학생/공과대학 산업공학과)",
      "photoUrl": "",
      "userId": "01309828358390765454"
     },
     "user_tz": -540
    },
    "id": "X1bVaBBOx3tV"
   },
   "outputs": [],
   "source": [
    "## 손실함수, optimizer 초기화\n",
    "optimizer = AdamW(optimizer_grouped_parameters, lr=learning_rate)\n",
    "criterion = nn.CrossEntropyLoss().to(device)"
   ]
  },
  {
   "cell_type": "code",
   "execution_count": 25,
   "metadata": {
    "colab": {},
    "colab_type": "code",
    "executionInfo": {
     "elapsed": 61631,
     "status": "ok",
     "timestamp": 1593519524268,
     "user": {
      "displayName": "‍김승유(학부학생/공과대학 산업공학과)",
      "photoUrl": "",
      "userId": "01309828358390765454"
     },
     "user_tz": -540
    },
    "id": "QD09ZVdjE63p"
   },
   "outputs": [],
   "source": [
    "## linear scheduler 초기화\n",
    "t_total = len(train_loader) * num_epochs\n",
    "warmup_step = int(t_total * warmup_ratio)\n",
    "scheduler = WarmupLinearSchedule(optimizer, warmup_steps=warmup_step, t_total=t_total)"
   ]
  },
  {
   "cell_type": "code",
   "execution_count": 26,
   "metadata": {
    "colab": {},
    "colab_type": "code",
    "executionInfo": {
     "elapsed": 952,
     "status": "ok",
     "timestamp": 1593519586312,
     "user": {
      "displayName": "‍김승유(학부학생/공과대학 산업공학과)",
      "photoUrl": "",
      "userId": "01309828358390765454"
     },
     "user_tz": -540
    },
    "id": "OzSEeXMe3Oof"
   },
   "outputs": [],
   "source": [
    "def save_checkpoint(epoch, model, optimizer, scheduler, loss_list, PATH):\n",
    "  torch.save({\n",
    "            'epoch': epoch,\n",
    "            'model_state_dict': model.state_dict(),\n",
    "            'optimizer_state_dict': optimizer.state_dict(),\n",
    "            'scheduler_state_dict': scheduler.state_dict(),\n",
    "            'loss_list': loss_list\n",
    "            }, PATH)"
   ]
  },
  {
   "cell_type": "code",
   "execution_count": 27,
   "metadata": {
    "colab": {},
    "colab_type": "code",
    "executionInfo": {
     "elapsed": 714,
     "status": "ok",
     "timestamp": 1593519586636,
     "user": {
      "displayName": "‍김승유(학부학생/공과대학 산업공학과)",
      "photoUrl": "",
      "userId": "01309828358390765454"
     },
     "user_tz": -540
    },
    "id": "AjzZRjsNrExK"
   },
   "outputs": [],
   "source": [
    "def translate_example(inputs, input_length, outputs, label, label_length):\n",
    "  _, topi = outputs.topk(1)\n",
    "  for x in [1,2,3,4,5]:\n",
    "    print(\"Example #\"+str(x))\n",
    "    s = \"\"\n",
    "    for y in inputs[x][:input_length[x]]:\n",
    "      s += vocab.idx_to_token[y.item()]\n",
    "    print(\"input :\", s)\n",
    "    s = \"\"\n",
    "    for y in topi[x]:\n",
    "      s += vocab.idx_to_token[y.item()]\n",
    "      # if y.item() in [1,3]:\n",
    "      #   break\n",
    "    print(\"pred:\", s)\n",
    "    s = \"\"\n",
    "    for y in label[x][:label_length[x]]:\n",
    "      s += vocab.idx_to_token[y.item()]\n",
    "    print(\"label:\", s)"
   ]
  },
  {
   "cell_type": "markdown",
   "metadata": {
    "colab_type": "text",
    "id": "zQ8HjBIaICfi"
   },
   "source": [
    "# 모델 학습, 불러오기, 결과"
   ]
  },
  {
   "cell_type": "code",
   "execution_count": 28,
   "metadata": {
    "colab": {},
    "colab_type": "code",
    "executionInfo": {
     "elapsed": 22341,
     "status": "ok",
     "timestamp": 1593519613275,
     "user": {
      "displayName": "‍김승유(학부학생/공과대학 산업공학과)",
      "photoUrl": "",
      "userId": "01309828358390765454"
     },
     "user_tz": -540
    },
    "id": "T6R12u7MkVnv"
   },
   "outputs": [],
   "source": [
    "save_path = '/content/gdrive/My Drive/colab/kobert_practice/model/checkpoint_2_sample.tar'\n",
    "checkpoint = torch.load(save_path)\n",
    "model.load_state_dict(checkpoint['model_state_dict'])\n",
    "optimizer.load_state_dict(checkpoint['optimizer_state_dict'])\n",
    "scheduler.load_state_dict(checkpoint['scheduler_state_dict'])"
   ]
  },
  {
   "cell_type": "code",
   "execution_count": null,
   "metadata": {
    "colab": {},
    "colab_type": "code",
    "id": "zJypYJAqkCW1"
   },
   "outputs": [],
   "source": [
    "loss_list = []"
   ]
  },
  {
   "cell_type": "code",
   "execution_count": null,
   "metadata": {
    "colab": {
     "base_uri": "https://localhost:8080/",
     "height": 1000,
     "referenced_widgets": [
      "c7c2ea5f592c4be5b18c186a521a12b6",
      "8bbc1bbedc86452689b21a7ab8b80fba",
      "12498dcf5ff544a3a857468ff8af797e",
      "bddd65c488304dbea306bf9ffed2e4ef",
      "92ff7b796fac47739323e412cd142559",
      "19e73639532647a596d04c4d400f0f59",
      "741d37bd0e50477497c7881c3ca281a5",
      "a3d9a18490564453bf274bcc2d76546d"
     ]
    },
    "colab_type": "code",
    "id": "3folHMEW5fnb",
    "outputId": "d1108b6c-f911-4951-aeb1-4d0ee69da204"
   },
   "outputs": [
    {
     "name": "stdout",
     "output_type": "stream",
     "text": [
      "Training..\n"
     ]
    },
    {
     "name": "stderr",
     "output_type": "stream",
     "text": [
      "/usr/local/lib/python3.6/dist-packages/ipykernel_launcher.py:6: TqdmDeprecationWarning: This function will be removed in tqdm==5.0.0\n",
      "Please use `tqdm.notebook.tqdm` instead of `tqdm.tqdm_notebook`\n",
      "  \n"
     ]
    },
    {
     "data": {
      "application/vnd.jupyter.widget-view+json": {
       "model_id": "c7c2ea5f592c4be5b18c186a521a12b6",
       "version_major": 2,
       "version_minor": 0
      },
      "text/plain": [
       "HBox(children=(FloatProgress(value=0.0, max=1223.0), HTML(value='')))"
      ]
     },
     "metadata": {
      "tags": []
     },
     "output_type": "display_data"
    },
    {
     "name": "stdout",
     "output_type": "stream",
     "text": [
      "Epoch [1/160], Step [150/1223], Loss: 8.7176, Accuracy: 14.47%\n",
      "Example #1\n",
      "input : [CLS]▁네▁?[SEP]\n",
      "pred: [UNK]홍보▁주로▁주로[PAD]붓[PAD]▁주로▁주로▁주로▁주로▁적극적으로▁적극적으로▁적극적으로[PAD]▁적극적으로▁적극적으로▁적극적으로▁적극적으로▁적극적으로▁적극적으로▁적극적으로▁적극적으로▁적극적으로▁적극적으로▁삼성전자▁주로▁주로▁주로▁주로▁中▁주로▁주로▁주로▁상환▁주로▁삼성전자▁삼성전자▁삼성전자▁적극적으로▁주로▁주로▁주로▁폭우▁주로▁적극적으로▁삼성전자▁中▁적극적으로▁적극적으로▁적극적으로▁적극적으로▁적극적으로▁적극적으로▁적극적으로▁적극적으로▁적극적으로▁적극적으로▁적극적으로▁적극적으로▁적극적으로▁적극적으로▁적극적으로▁적극적으로▁적극적으로▁적극적으로▁적극적으로▁적극적으로▁적극적으로▁적극적으로▁적극적으로▁적극적으로▁적극적으로▁적극적으로붓붓▁주로▁주로▁적극적으로▁봐▁봐▁삼성전자붓▁주로▁주로▁주로▁주로▁봐▁봐▁적극적으로붓▁주로▁적극적으로▁적극적으로▁적극적으로▁적극적으로▁적극적으로▁적극적으로▁적극적으로▁적극적으로\n",
      "label: [CLS]▁마굿간에▁있던▁남자애들▁중▁한▁명이▁넬리에게▁네가▁내▁말을▁이미▁샀다고▁말했어▁.▁그리고▁그것은▁신랑이▁그▁말을▁부수고▁있는▁두란의▁농장에▁있다고▁.▁그게▁사실이야▁,▁아빠▁?[SEP]\n",
      "Example #2\n",
      "input : [CLS]▁어쨌든▁그▁프랑스▁남자는▁누구야▁.[SEP]\n",
      "pred: [UNK]엠닌괴괴괴기사기사天天天天天天天天天天天天天天天天天天天天天天天天天天天天天天天天天天天天天天天天天天天天天天天天天天天天天天天天天天天天天天天天天天天天天天天天天天天天天天天天天天天天天天天天天天天天\n",
      "label: [CLS]▁오▁,▁그냥▁어떤▁보험사▁아저씨▁.[SEP]\n",
      "Example #3\n",
      "input : [CLS]▁긴▁머리▁관리▁어렵다▁.[SEP]\n",
      "pred: [UNK]▁결과▁소비자▁공개된▁공개된▁공개된▁공개된▁공개된▁공개된▁공개된▁공개된▁공개된▁공개된▁공개된▁공개된▁공개된▁공개된▁공개된▁공개된▁공개된▁공개된▁공개된▁공개된▁득점▁득점▁득점▁득점▁득점▁득점▁공개된▁공개된▁득점▁공개된▁공개된▁공개된▁공개된▁공개된▁공개된▁공개된▁공개된▁득점▁공개된▁공개된▁득점▁공개된▁공개된▁득점▁득점▁공개된▁공개된▁공개된▁공개된▁공개된▁공개된▁공개된▁공개된▁공개된▁공개된▁공개된▁공개된▁공개된▁공개된▁공개된▁공개된▁공개된▁공개된▁공개된▁공개된▁공개된▁공개된▁공개된▁공개된▁공개된▁공개된▁공개된▁공개된▁공개된▁공개된▁공개된▁공개된▁득점▁공개된▁공개된▁공개된▁공개된▁공개된▁공개된▁공개된▁공개된▁공개된▁공개된▁공개된▁공개된▁공개된▁공개된▁공개된▁공개된▁공개된▁공개된▁공개된\n",
      "label: [CLS]▁그래서▁저는▁못▁기르고▁잘라요▁.[SEP]\n",
      "Example #4\n",
      "input : [CLS]▁음▁,▁음▁,▁Mollie▁Malloy양▁.[SEP]\n",
      "pred: [UNK]자마자뽐자마자너목들▁만난▁곽天▁던지▁과제▁공개된자마자▁않고자마자자마자자마자자마자자마자▁않고▁결정자마자자마자자마자자마자자마자자마자자마자자마자자마자자마자자마자자마자자마자▁않고天자마자자마자자마자자마자자마자자마자자마자자마자자마자자마자자마자자마자자마자자마자▁않고天天天天天天天天天天天天자마자자마자天자마자자마자자마자▁않고자마자▁않고자마자天자마자자마자자마자자마자▁않고자마자자마자자마자자마자자마자자마자▁않고▁결정▁비리자마자자마자자마자자마자자마자자마자▁않고자마자▁않고자마자자마자자마자▁않고\n",
      "label: [CLS]▁안녕▁,▁몰리▁.[SEP]\n",
      "Example #5\n",
      "input : [CLS]▁난▁널▁위해▁목숨을▁걸▁가치도▁없어▁.[SEP]\n",
      "pred: [UNK]금속금속▁개인정보괴괴마케팅▁무조건▁무조건▁곽마케팅▁이병헌08▁개인정보마케팅클08▁무조건뛸▁마08▁검08▁검08되면서▁검▁검▁검▁속에▁정부와▁검▁무조건뛸꺾▁무조건▁서비스▁속에▁속에▁속에06꺾▁서비스▁속에마케팅마케팅0606꺾▁일본▁개인정보▁고령▁이병헌꺾▁이병헌▁새로08꺾▁무조건▁서비스▁정부와▁속에▁속에▁속에마케팅마케팅▁메이저리그▁무조건▁서비스▁서비스꺾▁새로경찰청▁속에▁속에▁속에마케팅▁메이저리그▁무조건▁속에06꺾▁서비스꺾▁새로경찰청경찰청▁속에▁속에마케팅마케팅▁메이저리그▁무조건▁서비스▁서비스꺾▁새로▁속에마케팅▁메이저리그\n",
      "label: [CLS]▁잡았다▁,▁키텔▁대장장이▁만약▁당신이▁간다면▁.▁.▁.▁나도▁간다▁.▁.▁.[SEP]\n",
      "Epoch [1/160], Step [300/1223], Loss: 6.9511, Accuracy: 82.16%\n",
      "Example #1\n",
      "input : [CLS]▁그를▁침대로▁데려갑시다▁.[SEP]\n",
      "pred: [UNK][PAD][PAD][PAD][PAD][PAD][PAD][PAD][PAD][PAD][PAD][PAD][PAD][PAD][PAD][PAD][PAD][PAD][PAD][PAD][PAD][PAD][PAD][PAD][PAD][PAD][PAD][PAD][PAD][PAD][PAD][PAD][PAD][PAD][PAD][PAD][PAD][PAD][PAD][PAD][PAD][PAD][PAD][PAD][PAD][PAD][PAD][PAD][PAD][PAD][PAD][PAD][PAD][PAD][PAD][PAD][PAD][PAD][PAD][PAD][PAD][PAD][PAD][PAD][PAD][PAD][PAD][PAD][PAD][PAD][PAD][PAD][PAD][PAD][PAD][PAD][PAD][PAD][PAD][PAD][PAD][PAD][PAD][PAD][PAD][PAD][PAD][PAD][PAD][PAD][PAD][PAD][PAD][PAD][PAD][PAD][PAD][PAD][PAD][PAD]\n",
      "label: [CLS]▁자기야▁,▁넌▁나를▁너무▁잘▁대해줘▁.▁비길▁데▁없이▁,▁넌▁좋은▁아들이야▁,▁사랑해▁.▁넌▁나에게▁아무런▁문제도▁주지▁않았어▁.[SEP]\n",
      "Example #2\n",
      "input : [CLS]▁그리고▁여자애들은▁?[SEP]\n",
      "pred: [UNK][PAD][PAD][PAD][PAD][PAD][PAD][PAD][PAD][PAD][PAD][PAD][PAD][PAD][PAD][PAD][PAD][PAD][PAD][PAD][PAD][PAD][PAD][PAD][PAD][PAD][PAD][PAD][PAD][PAD][PAD][PAD][PAD][PAD][PAD][PAD][PAD][PAD][PAD][PAD][PAD][PAD][PAD][PAD][PAD][PAD][PAD][PAD][PAD][PAD][PAD][PAD][PAD][PAD][PAD][PAD][PAD][PAD][PAD][PAD][PAD][PAD][PAD][PAD][PAD][PAD][PAD][PAD][PAD][PAD][PAD][PAD][PAD][PAD][PAD][PAD][PAD][PAD][PAD][PAD][PAD][PAD][PAD][PAD][PAD][PAD][PAD][PAD][PAD][PAD][PAD][PAD][PAD][PAD][PAD][PAD][PAD][PAD][PAD][PAD]\n",
      "label: [CLS]▁그냥▁여자들뿐▁.▁뭘▁마시고▁있는▁거야▁?[SEP]\n",
      "Example #3\n",
      "input : [CLS]▁단수[SEP]\n",
      "pred: [UNK][PAD][PAD][PAD][PAD][PAD][PAD][PAD][PAD][PAD][PAD][PAD][PAD][PAD][PAD][PAD][PAD][PAD][PAD][PAD][PAD][PAD][PAD][PAD][PAD][PAD][PAD][PAD][PAD][PAD][PAD][PAD][PAD][PAD][PAD][PAD][PAD][PAD][PAD][PAD][PAD][PAD][PAD][PAD][PAD][PAD][PAD][PAD][PAD][PAD][PAD][PAD][PAD][PAD][PAD][PAD][PAD][PAD][PAD][PAD][PAD][PAD][PAD][PAD][PAD][PAD][PAD][PAD][PAD][PAD][PAD][PAD][PAD][PAD][PAD][PAD][PAD][PAD][PAD][PAD][PAD][PAD][PAD][PAD][PAD][PAD][PAD][PAD][PAD][PAD][PAD][PAD][PAD][PAD][PAD][PAD][PAD][PAD][PAD][PAD]\n",
      "label: [CLS]▁단수가▁되었는지▁문의해▁보세요▁.[SEP]\n",
      "Example #4\n",
      "input : [CLS]▁빅터▁,▁왠지▁여기▁있으면▁안▁될▁것▁같아[SEP]\n",
      "pred: [UNK][PAD][PAD][PAD][PAD][PAD][PAD][PAD][PAD][PAD][PAD][PAD][PAD][PAD][PAD][PAD][PAD][PAD][PAD][PAD][PAD][PAD][PAD][PAD][PAD][PAD][PAD][PAD][PAD][PAD][PAD][PAD][PAD][PAD][PAD][PAD][PAD][PAD][PAD][PAD][PAD][PAD][PAD][PAD][PAD][PAD][PAD][PAD][PAD][PAD][PAD][PAD][PAD][PAD][PAD][PAD][PAD][PAD][PAD][PAD][PAD][PAD][PAD][PAD][PAD][PAD][PAD][PAD][PAD][PAD][PAD][PAD][PAD][PAD][PAD][PAD][PAD][PAD][PAD][PAD][PAD][PAD][PAD][PAD][PAD][PAD][PAD][PAD][PAD][PAD][PAD][PAD][PAD][PAD][PAD][PAD][PAD][PAD][PAD][PAD]\n",
      "label: [CLS]▁만약▁우리가▁그렇게▁빨리▁나간다면▁,▁그것은▁단지▁우리에게▁주의를▁환기시킬▁것이다▁.▁아마▁유가티는▁카페의▁다른▁곳에▁있을▁거야▁.[SEP]\n",
      "Example #5\n",
      "input : [CLS]▁전여친[SEP]\n",
      "pred: [UNK][PAD][PAD][PAD][PAD][PAD][PAD][PAD][PAD][PAD][PAD][PAD][PAD][PAD][PAD][PAD][PAD][PAD][PAD][PAD][PAD][PAD][PAD][PAD][PAD][PAD][PAD][PAD][PAD][PAD][PAD][PAD][PAD][PAD][PAD][PAD][PAD][PAD][PAD][PAD][PAD][PAD][PAD][PAD][PAD][PAD][PAD][PAD][PAD][PAD][PAD][PAD][PAD][PAD][PAD][PAD][PAD][PAD][PAD][PAD][PAD][PAD][PAD][PAD][PAD][PAD][PAD][PAD][PAD][PAD][PAD][PAD][PAD][PAD][PAD][PAD][PAD][PAD][PAD][PAD][PAD][PAD][PAD][PAD][PAD][PAD][PAD][PAD][PAD][PAD][PAD][PAD][PAD][PAD][PAD][PAD][PAD][PAD][PAD][PAD]\n",
      "label: [CLS]▁잊으세요▁.[SEP]\n",
      "Epoch [1/160], Step [450/1223], Loss: 5.1863, Accuracy: 83.38%\n",
      "Example #1\n",
      "input : [CLS]▁새로운▁영웅은▁너야[SEP]\n",
      "pred: [UNK][PAD][PAD][PAD][PAD][PAD][PAD][PAD][PAD][PAD][PAD][PAD][PAD][PAD][PAD][PAD][PAD][PAD][PAD][PAD][PAD][PAD][PAD][PAD][PAD][PAD][PAD][PAD][PAD][PAD][PAD][PAD][PAD][PAD][PAD][PAD][PAD][PAD][PAD][PAD][PAD][PAD][PAD][PAD][PAD][PAD][PAD][PAD][PAD][PAD][PAD][PAD][PAD][PAD][PAD][PAD][PAD][PAD][PAD][PAD][PAD][PAD][PAD][PAD][PAD][PAD][PAD][PAD][PAD][PAD][PAD][PAD][PAD][PAD][PAD][PAD][PAD][PAD][PAD][PAD][PAD][PAD][PAD][PAD][PAD][PAD][PAD][PAD][PAD][PAD][PAD][PAD][PAD][PAD][PAD][PAD][PAD][PAD][PAD][PAD]\n",
      "label: [CLS]▁난▁군중이▁싫고▁카리스마가▁없어[SEP]\n",
      "Example #2\n",
      "input : [CLS]▁썸▁맞는지▁궁금[SEP]\n",
      "pred: [UNK][PAD][PAD][PAD][PAD][PAD][PAD][PAD][PAD][PAD][PAD][PAD][PAD][PAD][PAD][PAD][PAD][PAD][PAD][PAD][PAD][PAD][PAD][PAD][PAD][PAD][PAD][PAD][PAD][PAD][PAD][PAD][PAD][PAD][PAD][PAD][PAD][PAD][PAD][PAD][PAD][PAD][PAD][PAD][PAD][PAD][PAD][PAD][PAD][PAD][PAD][PAD][PAD][PAD][PAD][PAD][PAD][PAD][PAD][PAD][PAD][PAD][PAD][PAD][PAD][PAD][PAD][PAD][PAD][PAD][PAD][PAD][PAD][PAD][PAD][PAD][PAD][PAD][PAD][PAD][PAD][PAD][PAD][PAD][PAD][PAD][PAD][PAD][PAD][PAD][PAD][PAD][PAD][PAD][PAD][PAD][PAD][PAD][PAD][PAD]\n",
      "label: [CLS]▁계속▁연락하고▁만나자고▁해야▁썸인▁듯합니다▁.[SEP]\n",
      "Example #3\n",
      "input : [CLS]▁제시▁,▁할▁말이▁있어[SEP]\n",
      "pred: [UNK][PAD][PAD][PAD][PAD][PAD][PAD][PAD][PAD][PAD][PAD][PAD][PAD][PAD][PAD][PAD][PAD][PAD][PAD][PAD][PAD][PAD][PAD][PAD][PAD][PAD][PAD][PAD][PAD][PAD][PAD][PAD][PAD][PAD][PAD][PAD][PAD][PAD][PAD][PAD][PAD][PAD][PAD][PAD][PAD][PAD][PAD][PAD][PAD][PAD][PAD][PAD][PAD][PAD][PAD][PAD][PAD][PAD][PAD][PAD][PAD][PAD][PAD][PAD][PAD][PAD][PAD][PAD][PAD][PAD][PAD][PAD][PAD][PAD][PAD][PAD][PAD][PAD][PAD][PAD][PAD][PAD][PAD][PAD][PAD][PAD][PAD][PAD][PAD][PAD][PAD][PAD][PAD][PAD][PAD][PAD][PAD][PAD][PAD][PAD]\n",
      "label: [CLS]▁물론이지▁,▁사촌▁.[SEP]\n",
      "Example #4\n",
      "input : [CLS]▁그건▁고추장이고▁너도▁알잖아▁.[SEP]\n",
      "pred: [UNK][PAD][PAD][PAD][PAD][PAD][PAD][PAD][PAD][PAD][PAD][PAD][PAD][PAD][PAD][PAD][PAD][PAD][PAD][PAD][PAD][PAD][PAD][PAD][PAD][PAD][PAD][PAD][PAD][PAD][PAD][PAD][PAD][PAD][PAD][PAD][PAD][PAD][PAD][PAD][PAD][PAD][PAD][PAD][PAD][PAD][PAD][PAD][PAD][PAD][PAD][PAD][PAD][PAD][PAD][PAD][PAD][PAD][PAD][PAD][PAD][PAD][PAD][PAD][PAD][PAD][PAD][PAD][PAD][PAD][PAD][PAD][PAD][PAD][PAD][PAD][PAD][PAD][PAD][PAD][PAD][PAD][PAD][PAD][PAD][PAD][PAD][PAD][PAD][PAD][PAD][PAD][PAD][PAD][PAD][PAD][PAD][PAD][PAD][PAD]\n",
      "label: [CLS]▁그럴지도▁모르지▁하지만▁그건▁내▁잘못이고▁내가▁[UNK]어지고▁갈게[SEP]\n",
      "Example #5\n",
      "input : [CLS]▁아니▁,▁하지만▁보세요▁,▁우리▁함께▁다른▁일을▁할▁수▁있을지도▁모르죠▁,▁로빈슨▁부인▁.▁영화▁보러▁가시겠습니까▁?[SEP]\n",
      "pred: [UNK][PAD][PAD][PAD][PAD][PAD][PAD][PAD][PAD][PAD][PAD][PAD][PAD][PAD][PAD][PAD][PAD][PAD][PAD][PAD][PAD][PAD][PAD][PAD][PAD][PAD][PAD][PAD][PAD][PAD][PAD][PAD][PAD][PAD][PAD][PAD][PAD][PAD][PAD][PAD][PAD][PAD][PAD][PAD][PAD][PAD][PAD][PAD][PAD][PAD][PAD][PAD][PAD][PAD][PAD][PAD][PAD][PAD][PAD][PAD][PAD][PAD][PAD][PAD][PAD][PAD][PAD][PAD][PAD][PAD][PAD][PAD][PAD][PAD][PAD][PAD][PAD][PAD][PAD][PAD][PAD][PAD][PAD][PAD][PAD][PAD][PAD][PAD][PAD][PAD][PAD][PAD][PAD][PAD][PAD][PAD][PAD][PAD][PAD][PAD]\n",
      "label: [CLS]▁벤자민▁,▁이번이▁처음이야▁?[SEP]\n",
      "Epoch [1/160], Step [600/1223], Loss: 3.7942, Accuracy: 85.34%\n",
      "Example #1\n",
      "input : [CLS]▁아니▁.▁좋은▁소식은▁내가▁문제를▁찾았고▁그것은▁우리의▁장비가▁아니라는▁거야▁.▁위성방송에▁이상한▁신호가▁들어왔어[SEP]\n",
      "pred: [UNK][PAD][PAD][PAD][PAD][PAD][PAD][PAD][PAD][PAD][PAD][PAD][PAD][PAD][PAD][PAD][PAD][PAD][PAD][PAD][PAD][PAD][PAD][PAD][PAD][PAD][PAD][PAD][PAD][PAD][PAD][PAD][PAD][PAD][PAD][PAD][PAD][PAD][PAD][PAD][PAD][PAD][PAD][PAD][PAD][PAD][PAD][PAD][PAD][PAD][PAD][PAD][PAD][PAD][PAD][PAD][PAD][PAD][PAD][PAD][PAD][PAD][PAD][PAD][PAD][PAD][PAD][PAD][PAD][PAD][PAD][PAD][PAD][PAD][PAD][PAD][PAD][PAD][PAD][PAD][PAD][PAD][PAD][PAD][PAD][PAD][PAD][PAD][PAD][PAD][PAD][PAD][PAD][PAD][PAD][PAD][PAD][PAD][PAD][PAD]\n",
      "label: [CLS]▁그게▁좋은▁소식이야▁?[SEP]\n",
      "Example #2\n",
      "input : [CLS]▁미안▁,▁그럴▁의도는▁아니었어▁.[SEP]\n",
      "pred: [UNK][PAD][PAD][PAD][PAD][PAD][PAD][PAD][PAD][PAD][PAD][PAD][PAD][PAD][PAD][PAD][PAD][PAD][PAD][PAD][PAD][PAD][PAD][PAD][PAD][PAD][PAD][PAD][PAD][PAD][PAD][PAD][PAD][PAD][PAD][PAD][PAD][PAD][PAD][PAD][PAD][PAD][PAD][PAD][PAD][PAD][PAD][PAD][PAD][PAD][PAD][PAD][PAD][PAD][PAD][PAD][PAD][PAD][PAD][PAD][PAD][PAD][PAD][PAD][PAD][PAD][PAD][PAD][PAD][PAD][PAD][PAD][PAD][PAD][PAD][PAD][PAD][PAD][PAD][PAD][PAD][PAD][PAD][PAD][PAD][PAD][PAD][PAD][PAD][PAD][PAD][PAD][PAD][PAD][PAD][PAD][PAD][PAD][PAD][PAD]\n",
      "label: [CLS]▁괜찮아▁그냥▁옛▁여자▁친구야▁.▁그리고▁내가▁그▁이유를▁기억한다는▁것도▁알아▁.[SEP]\n",
      "Example #3\n",
      "input : [CLS]▁난▁쿨에이드▁안▁마실▁거야[SEP]\n",
      "pred: [UNK][PAD][PAD][PAD][PAD][PAD][PAD][PAD][PAD][PAD][PAD][PAD][PAD][PAD][PAD][PAD][PAD][PAD][PAD][PAD][PAD][PAD][PAD][PAD][PAD][PAD][PAD][PAD][PAD][PAD][PAD][PAD][PAD][PAD][PAD][PAD][PAD][PAD][PAD][PAD][PAD][PAD][PAD][PAD][PAD][PAD][PAD][PAD][PAD][PAD][PAD][PAD][PAD][PAD][PAD][PAD][PAD][PAD][PAD][PAD][PAD][PAD][PAD][PAD][PAD][PAD][PAD][PAD][PAD][PAD][PAD][PAD][PAD][PAD][PAD][PAD][PAD][PAD][PAD][PAD][PAD][PAD][PAD][PAD][PAD][PAD][PAD][PAD][PAD][PAD][PAD][PAD][PAD][PAD][PAD][PAD][PAD][PAD][PAD][PAD]\n",
      "label: [CLS]▁무슨▁소리야▁?[SEP]\n",
      "Example #4\n",
      "input : [CLS]▁여자친구▁보고만▁있어도▁좋아[SEP]\n",
      "pred: [UNK][PAD][PAD][PAD][PAD][PAD][PAD][PAD][PAD][PAD][PAD][PAD][PAD][PAD][PAD][PAD][PAD][PAD][PAD][PAD][PAD][PAD][PAD][PAD][PAD][PAD][PAD][PAD][PAD][PAD][PAD][PAD][PAD][PAD][PAD][PAD][PAD][PAD][PAD][PAD][PAD][PAD][PAD][PAD][PAD][PAD][PAD][PAD][PAD][PAD][PAD][PAD][PAD][PAD][PAD][PAD][PAD][PAD][PAD][PAD][PAD][PAD][PAD][PAD][PAD][PAD][PAD][PAD][PAD][PAD][PAD][PAD][PAD][PAD][PAD][PAD][PAD][PAD][PAD][PAD][PAD][PAD][PAD][PAD][PAD][PAD][PAD][PAD][PAD][PAD][PAD][PAD][PAD][PAD][PAD][PAD][PAD][PAD][PAD][PAD]\n",
      "label: [CLS]▁애들아▁~▁여기▁깨▁쏟아진다▁.[SEP]\n",
      "Example #5\n",
      "input : [CLS]▁날씨가▁추워요[SEP]\n",
      "pred: [UNK][PAD][PAD][PAD][PAD][PAD][PAD][PAD][PAD][PAD][PAD][PAD][PAD][PAD][PAD][PAD][PAD][PAD][PAD][PAD][PAD][PAD][PAD][PAD][PAD][PAD][PAD][PAD][PAD][PAD][PAD][PAD][PAD][PAD][PAD][PAD][PAD][PAD][PAD][PAD][PAD][PAD][PAD][PAD][PAD][PAD][PAD][PAD][PAD][PAD][PAD][PAD][PAD][PAD][PAD][PAD][PAD][PAD][PAD][PAD][PAD][PAD][PAD][PAD][PAD][PAD][PAD][PAD][PAD][PAD][PAD][PAD][PAD][PAD][PAD][PAD][PAD][PAD][PAD][PAD][PAD][PAD][PAD][PAD][PAD][PAD][PAD][PAD][PAD][PAD][PAD][PAD][PAD][PAD][PAD][PAD][PAD][PAD][PAD][PAD]\n",
      "label: [CLS]▁상관없어▁.[SEP]\n"
     ]
    }
   ],
   "source": [
    "print('Training..')\n",
    "## checkpoint 불러와서 학습시킬 경우 range 범위 바꿔주기\n",
    "for epoch in range(0, num_epochs):\n",
    "\n",
    "    model.train()\n",
    "\n",
    "    for i, (token_ids, valid_length, segment_ids, label, label_length) in enumerate(tqdm_notebook(train_loader)):\n",
    "        optimizer.zero_grad()\n",
    "\n",
    "        token_ids, valid_length, segment_ids, label = token_ids.long().to(device), valid_length.to(device), segment_ids.long().to(device), label.long().to(device)\n",
    "\n",
    "        outputs = model(token_ids, valid_length, segment_ids, label)\n",
    "  \n",
    "        loss = criterion(outputs, label)\n",
    "\n",
    "        loss.backward()\n",
    "        torch.nn.utils.clip_grad_norm_(model.parameters(), max_grad_norm)\n",
    "        optimizer.step() \n",
    "        scheduler.step()\n",
    "\n",
    "        ## accuracy 계산\n",
    "        _, topi = outputs.permute(0,2,1).topk(1)\n",
    "        topi = topi.squeeze()\n",
    "        accuracy = (label == topi).float().mean()\n",
    "\n",
    "        if (i+1) % print_every == 0: ## 상태 출력\n",
    "            print('Epoch [{}/{}], Step [{}/{}], Loss: {:.4f}, Accuracy: {:.2f}%'.format(\n",
    "                epoch+1, num_epochs, i+1, len(train_loader), loss.item(), accuracy.item() * 100))\n",
    "            loss_list.append(loss.item())\n",
    "            translate_example(token_ids, valid_length, outputs.permute(0,2,1), label, label_length)\n",
    "\n",
    "        \n",
    "    ## checkpoint 저장\n",
    "    if (epoch+1) % save_every == 0:\n",
    "       if not os.path.exists(\"model\"):\n",
    "         os.makedirs(\"model\")\n",
    "       save_checkpoint(epoch+1, model, optimizer, scheduler, loss_list, \"model/checkpoint_2_\"+str(epoch+1)+\".tar\")\n",
    "       print(\"checkpoint saved!\")"
   ]
  },
  {
   "cell_type": "code",
   "execution_count": null,
   "metadata": {
    "colab": {
     "base_uri": "https://localhost:8080/",
     "height": 389
    },
    "colab_type": "code",
    "executionInfo": {
     "elapsed": 2301,
     "status": "ok",
     "timestamp": 1591541511395,
     "user": {
      "displayName": "‍김승유(학부학생/공과대학 산업공학과)",
      "photoUrl": "",
      "userId": "01309828358390765454"
     },
     "user_tz": -540
    },
    "id": "btnTEVAps3_s",
    "outputId": "5fe4a020-72b7-494a-8597-43ca1918bdf8"
   },
   "outputs": [
    {
     "name": "stdout",
     "output_type": "stream",
     "text": [
      "Example #1\n",
      "input : [CLS]▁결혼식▁날짜▁잡았대[SEP]\n",
      "pred: [CLS]▁축하해주세요▁.[SEP]\n",
      "label: [CLS]▁축하해주세요▁.[SEP]\n",
      "Example #2\n",
      "input : [CLS]▁상처가▁빨리▁나았으면좋겠다[SEP]\n",
      "pred: [CLS]▁금방▁낫고▁새▁살이을을을을을을을을을을을을을을을을을을을을을을을을을을을을을을을을을을을을을을을을을을을을을을을을을을을을을을을\n",
      "label: [CLS]▁금방▁낫고▁새▁살이▁돋을▁거예요▁.[SEP]\n",
      "Example #3\n",
      "input : [CLS]▁화장이▁안▁받네[SEP]\n",
      "pred: [CLS]▁각질제거▁먼저하세요하세요하세요하세요하세요하세요하세요하세요하세요하세요하세요하세요하세요하세요하세요하세요하세요하세요하세요하세요하세요하세요하세요하세요하세요하세요하세요하세요하세요하세요하세요하세요하세요하세요하세요하세요하세요하세요하세요하세요하세요하세요하세요하세요하세요하세요하세요하세요하세요하세요하세요하세요하세요하세요하세요하세요하세요하세요\n",
      "label: [CLS]▁각질제거▁먼저▁하세요▁.[SEP]\n",
      "Example #4\n",
      "input : [CLS]▁의욕이▁안▁생겨[SEP]\n",
      "pred: [CLS]▁하고▁싶은▁걸▁찾아보세요▁[SEP]\n",
      "label: [CLS]▁하고▁싶은▁걸▁찾아보세요▁.[SEP]\n",
      "Example #5\n",
      "input : [CLS]▁뭔▁비밀이▁그렇게▁많은지[SEP]\n",
      "pred: [CLS]▁하나씩▁비밀을▁공유해보세요세요세요세요세요세요세요세요세요세요세요세요세요세요세요세요세요세요세요세요세요세요세요세요세요세요세요세요세요세요세요세요세요세요세요세요세요세요세요세요세요세요세요세요세요세요세요세요세요세요세요세요세요세요세요세요\n",
      "label: [CLS]▁하나씩▁비밀을▁공유해보세요▁.[SEP]\n"
     ]
    }
   ],
   "source": [
    "# for i, (a,b,c,d, e) in enumerate(train_loader):\n",
    "#   break\n",
    "# model.eval()\n",
    "# seq = model(a.long().to(device),b.to(device),c.long().to(device))\n",
    "# translate_example(a, b, seq, d, e)"
   ]
  },
  {
   "cell_type": "code",
   "execution_count": 29,
   "metadata": {
    "colab": {},
    "colab_type": "code",
    "executionInfo": {
     "elapsed": 653,
     "status": "ok",
     "timestamp": 1593519627632,
     "user": {
      "displayName": "‍김승유(학부학생/공과대학 산업공학과)",
      "photoUrl": "",
      "userId": "01309828358390765454"
     },
     "user_tz": -540
    },
    "id": "0e_p62VqDdQO"
   },
   "outputs": [],
   "source": [
    "def translate(s):\n",
    "  \n",
    "  transform = nlp.data.BERTSentenceTransform(tok, max_seq_length=max_len, pad=True, pair=False)\n",
    "  token, length, segment = transform([s])\n",
    "  token = torch.from_numpy(token).to(device)\n",
    "  length = torch.from_numpy(length).to(device)\n",
    "  segment = torch.from_numpy(segment).to(device)\n",
    "  model.eval()\n",
    "  token = token.view(1,-1)\n",
    "  length = length.view(1, -1)\n",
    "  segment = segment.view(1, -1)\n",
    "  label = torch.zeros(1, max_len).to(device)\n",
    "  label.fill_(2)\n",
    "  seq = model(token.long(), length, segment.long(), label, teacher_forcing_ratio=0)\n",
    "  seq = seq.permute(0,2,1)\n",
    "  _, topi = seq.topk(1)\n",
    "  answer = \"\"\n",
    "  for x in topi[0]:\n",
    "    answer += vocab.idx_to_token[x.item()]\n",
    "    if x.item() in [3]:\n",
    "        break\n",
    "\n",
    "  return answer"
   ]
  },
  {
   "cell_type": "code",
   "execution_count": 49,
   "metadata": {
    "colab": {
     "base_uri": "https://localhost:8080/",
     "height": 35
    },
    "colab_type": "code",
    "executionInfo": {
     "elapsed": 950,
     "status": "ok",
     "timestamp": 1593519742258,
     "user": {
      "displayName": "‍김승유(학부학생/공과대학 산업공학과)",
      "photoUrl": "",
      "userId": "01309828358390765454"
     },
     "user_tz": -540
    },
    "id": "c-UH18ddCAsz",
    "outputId": "8fcc6096-7bfd-4e5d-a730-d58579e7e036"
   },
   "outputs": [
    {
     "data": {
      "application/vnd.google.colaboratory.intrinsic": {
       "type": "string"
      },
      "text/plain": [
       "'[UNK]▁저는▁위로봇입니다▁.[SEP]'"
      ]
     },
     "execution_count": 49,
     "metadata": {
      "tags": []
     },
     "output_type": "execute_result"
    }
   ],
   "source": [
    "translate(\"넌 뭐야?\")"
   ]
  },
  {
   "cell_type": "code",
   "execution_count": null,
   "metadata": {
    "colab": {},
    "colab_type": "code",
    "id": "PLK5AHIlELRC"
   },
   "outputs": [],
   "source": []
  }
 ],
 "metadata": {
  "accelerator": "GPU",
  "colab": {
   "authorship_tag": "ABX9TyOCfDAoL2rJgOI0pvRKYdya",
   "collapsed_sections": [],
   "name": "kobert_practice_2.ipynb",
   "provenance": []
  },
  "kernelspec": {
   "display_name": "Python 3",
   "language": "python",
   "name": "python3"
  },
  "language_info": {
   "codemirror_mode": {
    "name": "ipython",
    "version": 3
   },
   "file_extension": ".py",
   "mimetype": "text/x-python",
   "name": "python",
   "nbconvert_exporter": "python",
   "pygments_lexer": "ipython3",
   "version": "3.7.4"
  },
  "widgets": {
   "application/vnd.jupyter.widget-state+json": {
    "12498dcf5ff544a3a857468ff8af797e": {
     "model_module": "@jupyter-widgets/controls",
     "model_name": "FloatProgressModel",
     "state": {
      "_dom_classes": [],
      "_model_module": "@jupyter-widgets/controls",
      "_model_module_version": "1.5.0",
      "_model_name": "FloatProgressModel",
      "_view_count": null,
      "_view_module": "@jupyter-widgets/controls",
      "_view_module_version": "1.5.0",
      "_view_name": "ProgressView",
      "bar_style": "",
      "description": " 50%",
      "description_tooltip": null,
      "layout": "IPY_MODEL_19e73639532647a596d04c4d400f0f59",
      "max": 1223,
      "min": 0,
      "orientation": "horizontal",
      "style": "IPY_MODEL_92ff7b796fac47739323e412cd142559",
      "value": 607
     }
    },
    "19e73639532647a596d04c4d400f0f59": {
     "model_module": "@jupyter-widgets/base",
     "model_name": "LayoutModel",
     "state": {
      "_model_module": "@jupyter-widgets/base",
      "_model_module_version": "1.2.0",
      "_model_name": "LayoutModel",
      "_view_count": null,
      "_view_module": "@jupyter-widgets/base",
      "_view_module_version": "1.2.0",
      "_view_name": "LayoutView",
      "align_content": null,
      "align_items": null,
      "align_self": null,
      "border": null,
      "bottom": null,
      "display": null,
      "flex": null,
      "flex_flow": null,
      "grid_area": null,
      "grid_auto_columns": null,
      "grid_auto_flow": null,
      "grid_auto_rows": null,
      "grid_column": null,
      "grid_gap": null,
      "grid_row": null,
      "grid_template_areas": null,
      "grid_template_columns": null,
      "grid_template_rows": null,
      "height": null,
      "justify_content": null,
      "justify_items": null,
      "left": null,
      "margin": null,
      "max_height": null,
      "max_width": null,
      "min_height": null,
      "min_width": null,
      "object_fit": null,
      "object_position": null,
      "order": null,
      "overflow": null,
      "overflow_x": null,
      "overflow_y": null,
      "padding": null,
      "right": null,
      "top": null,
      "visibility": null,
      "width": null
     }
    },
    "741d37bd0e50477497c7881c3ca281a5": {
     "model_module": "@jupyter-widgets/controls",
     "model_name": "DescriptionStyleModel",
     "state": {
      "_model_module": "@jupyter-widgets/controls",
      "_model_module_version": "1.5.0",
      "_model_name": "DescriptionStyleModel",
      "_view_count": null,
      "_view_module": "@jupyter-widgets/base",
      "_view_module_version": "1.2.0",
      "_view_name": "StyleView",
      "description_width": ""
     }
    },
    "8bbc1bbedc86452689b21a7ab8b80fba": {
     "model_module": "@jupyter-widgets/base",
     "model_name": "LayoutModel",
     "state": {
      "_model_module": "@jupyter-widgets/base",
      "_model_module_version": "1.2.0",
      "_model_name": "LayoutModel",
      "_view_count": null,
      "_view_module": "@jupyter-widgets/base",
      "_view_module_version": "1.2.0",
      "_view_name": "LayoutView",
      "align_content": null,
      "align_items": null,
      "align_self": null,
      "border": null,
      "bottom": null,
      "display": null,
      "flex": null,
      "flex_flow": null,
      "grid_area": null,
      "grid_auto_columns": null,
      "grid_auto_flow": null,
      "grid_auto_rows": null,
      "grid_column": null,
      "grid_gap": null,
      "grid_row": null,
      "grid_template_areas": null,
      "grid_template_columns": null,
      "grid_template_rows": null,
      "height": null,
      "justify_content": null,
      "justify_items": null,
      "left": null,
      "margin": null,
      "max_height": null,
      "max_width": null,
      "min_height": null,
      "min_width": null,
      "object_fit": null,
      "object_position": null,
      "order": null,
      "overflow": null,
      "overflow_x": null,
      "overflow_y": null,
      "padding": null,
      "right": null,
      "top": null,
      "visibility": null,
      "width": null
     }
    },
    "92ff7b796fac47739323e412cd142559": {
     "model_module": "@jupyter-widgets/controls",
     "model_name": "ProgressStyleModel",
     "state": {
      "_model_module": "@jupyter-widgets/controls",
      "_model_module_version": "1.5.0",
      "_model_name": "ProgressStyleModel",
      "_view_count": null,
      "_view_module": "@jupyter-widgets/base",
      "_view_module_version": "1.2.0",
      "_view_name": "StyleView",
      "bar_color": null,
      "description_width": "initial"
     }
    },
    "a3d9a18490564453bf274bcc2d76546d": {
     "model_module": "@jupyter-widgets/base",
     "model_name": "LayoutModel",
     "state": {
      "_model_module": "@jupyter-widgets/base",
      "_model_module_version": "1.2.0",
      "_model_name": "LayoutModel",
      "_view_count": null,
      "_view_module": "@jupyter-widgets/base",
      "_view_module_version": "1.2.0",
      "_view_name": "LayoutView",
      "align_content": null,
      "align_items": null,
      "align_self": null,
      "border": null,
      "bottom": null,
      "display": null,
      "flex": null,
      "flex_flow": null,
      "grid_area": null,
      "grid_auto_columns": null,
      "grid_auto_flow": null,
      "grid_auto_rows": null,
      "grid_column": null,
      "grid_gap": null,
      "grid_row": null,
      "grid_template_areas": null,
      "grid_template_columns": null,
      "grid_template_rows": null,
      "height": null,
      "justify_content": null,
      "justify_items": null,
      "left": null,
      "margin": null,
      "max_height": null,
      "max_width": null,
      "min_height": null,
      "min_width": null,
      "object_fit": null,
      "object_position": null,
      "order": null,
      "overflow": null,
      "overflow_x": null,
      "overflow_y": null,
      "padding": null,
      "right": null,
      "top": null,
      "visibility": null,
      "width": null
     }
    },
    "bddd65c488304dbea306bf9ffed2e4ef": {
     "model_module": "@jupyter-widgets/controls",
     "model_name": "HTMLModel",
     "state": {
      "_dom_classes": [],
      "_model_module": "@jupyter-widgets/controls",
      "_model_module_version": "1.5.0",
      "_model_name": "HTMLModel",
      "_view_count": null,
      "_view_module": "@jupyter-widgets/controls",
      "_view_module_version": "1.5.0",
      "_view_name": "HTMLView",
      "description": "",
      "description_tooltip": null,
      "layout": "IPY_MODEL_a3d9a18490564453bf274bcc2d76546d",
      "placeholder": "​",
      "style": "IPY_MODEL_741d37bd0e50477497c7881c3ca281a5",
      "value": " 607/1223 [26:07&lt;26:27,  2.58s/it]"
     }
    },
    "c7c2ea5f592c4be5b18c186a521a12b6": {
     "model_module": "@jupyter-widgets/controls",
     "model_name": "HBoxModel",
     "state": {
      "_dom_classes": [],
      "_model_module": "@jupyter-widgets/controls",
      "_model_module_version": "1.5.0",
      "_model_name": "HBoxModel",
      "_view_count": null,
      "_view_module": "@jupyter-widgets/controls",
      "_view_module_version": "1.5.0",
      "_view_name": "HBoxView",
      "box_style": "",
      "children": [
       "IPY_MODEL_12498dcf5ff544a3a857468ff8af797e",
       "IPY_MODEL_bddd65c488304dbea306bf9ffed2e4ef"
      ],
      "layout": "IPY_MODEL_8bbc1bbedc86452689b21a7ab8b80fba"
     }
    }
   }
  }
 },
 "nbformat": 4,
 "nbformat_minor": 1
}
